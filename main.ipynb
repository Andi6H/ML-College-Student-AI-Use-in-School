{
 "cells": [
  {
   "cell_type": "code",
   "execution_count": 19,
   "metadata": {},
   "outputs": [],
   "source": [
    "#Libraries\n",
    "import pandas as pd"
   ]
  },
  {
   "cell_type": "code",
   "execution_count": 20,
   "metadata": {},
   "outputs": [],
   "source": [
    "# Data collection\n",
    "dataset = pd.read_excel(\"dataset/AI On-Campus Research Survey (Responses).xlsx\", engine='openpyxl')"
   ]
  },
  {
   "cell_type": "code",
   "execution_count": 21,
   "metadata": {},
   "outputs": [
    {
     "data": {
      "text/html": [
       "<div>\n",
       "<style scoped>\n",
       "    .dataframe tbody tr th:only-of-type {\n",
       "        vertical-align: middle;\n",
       "    }\n",
       "\n",
       "    .dataframe tbody tr th {\n",
       "        vertical-align: top;\n",
       "    }\n",
       "\n",
       "    .dataframe thead th {\n",
       "        text-align: right;\n",
       "    }\n",
       "</style>\n",
       "<table border=\"1\" class=\"dataframe\">\n",
       "  <thead>\n",
       "    <tr style=\"text-align: right;\">\n",
       "      <th></th>\n",
       "      <th>Timestamp</th>\n",
       "      <th>On a scale from 1 to 5, how would you rate your knowledge and understanding of Artificial Intelligence (AI)?</th>\n",
       "      <th>On a scale from 1 to 5, how often do you use Artificial Intelligence (AI) for personal use?</th>\n",
       "      <th>On a scale from 1 to 5, how often do you use Artificial Intelligence (AI) for school-related tasks?</th>\n",
       "      <th>On a scale from 1 to 5, how interested are you in pursuing a career in Artificial Intelligence?</th>\n",
       "      <th>Do you know what Chat-GPT is?</th>\n",
       "      <th>What college are you in?</th>\n",
       "    </tr>\n",
       "  </thead>\n",
       "  <tbody>\n",
       "    <tr>\n",
       "      <th>0</th>\n",
       "      <td>2023-03-31 19:59:11.443</td>\n",
       "      <td>5</td>\n",
       "      <td>5</td>\n",
       "      <td>5</td>\n",
       "      <td>5</td>\n",
       "      <td>Yes</td>\n",
       "      <td>Science, Engineering, &amp; Technology</td>\n",
       "    </tr>\n",
       "    <tr>\n",
       "      <th>1</th>\n",
       "      <td>2023-03-31 19:59:44.970</td>\n",
       "      <td>4</td>\n",
       "      <td>3</td>\n",
       "      <td>4</td>\n",
       "      <td>4</td>\n",
       "      <td>Yes</td>\n",
       "      <td>Science, Engineering, &amp; Technology</td>\n",
       "    </tr>\n",
       "    <tr>\n",
       "      <th>2</th>\n",
       "      <td>2023-03-31 20:06:24.653</td>\n",
       "      <td>3</td>\n",
       "      <td>3</td>\n",
       "      <td>5</td>\n",
       "      <td>1</td>\n",
       "      <td>No</td>\n",
       "      <td>Business</td>\n",
       "    </tr>\n",
       "    <tr>\n",
       "      <th>3</th>\n",
       "      <td>2023-03-31 20:10:54.939</td>\n",
       "      <td>4</td>\n",
       "      <td>3</td>\n",
       "      <td>5</td>\n",
       "      <td>2</td>\n",
       "      <td>Yes</td>\n",
       "      <td>Business</td>\n",
       "    </tr>\n",
       "    <tr>\n",
       "      <th>4</th>\n",
       "      <td>2023-03-31 20:14:34.488</td>\n",
       "      <td>5</td>\n",
       "      <td>2</td>\n",
       "      <td>1</td>\n",
       "      <td>5</td>\n",
       "      <td>Yes</td>\n",
       "      <td>Humanities &amp; Social Sciences</td>\n",
       "    </tr>\n",
       "  </tbody>\n",
       "</table>\n",
       "</div>"
      ],
      "text/plain": [
       "                Timestamp  \\\n",
       "0 2023-03-31 19:59:11.443   \n",
       "1 2023-03-31 19:59:44.970   \n",
       "2 2023-03-31 20:06:24.653   \n",
       "3 2023-03-31 20:10:54.939   \n",
       "4 2023-03-31 20:14:34.488   \n",
       "\n",
       "   On a scale from 1 to 5, how would you rate your knowledge and understanding of Artificial Intelligence (AI)?  \\\n",
       "0                                                  5                                                              \n",
       "1                                                  4                                                              \n",
       "2                                                  3                                                              \n",
       "3                                                  4                                                              \n",
       "4                                                  5                                                              \n",
       "\n",
       "   On a scale from 1 to 5, how often do you use Artificial Intelligence (AI) for personal use?  \\\n",
       "0                                                  5                                             \n",
       "1                                                  3                                             \n",
       "2                                                  3                                             \n",
       "3                                                  3                                             \n",
       "4                                                  2                                             \n",
       "\n",
       "   On a scale from 1 to 5, how often do you use Artificial Intelligence (AI) for school-related tasks?  \\\n",
       "0                                                  5                                                     \n",
       "1                                                  4                                                     \n",
       "2                                                  5                                                     \n",
       "3                                                  5                                                     \n",
       "4                                                  1                                                     \n",
       "\n",
       "   On a scale from 1 to 5, how interested are you in pursuing a career in Artificial Intelligence?  \\\n",
       "0                                                  5                                                 \n",
       "1                                                  4                                                 \n",
       "2                                                  1                                                 \n",
       "3                                                  2                                                 \n",
       "4                                                  5                                                 \n",
       "\n",
       "  Do you know what Chat-GPT is?            What college are you in?  \n",
       "0                           Yes  Science, Engineering, & Technology  \n",
       "1                           Yes  Science, Engineering, & Technology  \n",
       "2                            No                            Business  \n",
       "3                           Yes                            Business  \n",
       "4                           Yes        Humanities & Social Sciences  "
      ]
     },
     "execution_count": 21,
     "metadata": {},
     "output_type": "execute_result"
    }
   ],
   "source": [
    "# Top rows of the dataset \n",
    "dataset.head()"
   ]
  },
  {
   "cell_type": "code",
   "execution_count": 22,
   "metadata": {},
   "outputs": [
    {
     "name": "stdout",
     "output_type": "stream",
     "text": [
      "<class 'pandas.core.frame.DataFrame'>\n",
      "RangeIndex: 258 entries, 0 to 257\n",
      "Data columns (total 7 columns):\n",
      " #   Column                                                                                                        Non-Null Count  Dtype         \n",
      "---  ------                                                                                                        --------------  -----         \n",
      " 0   Timestamp                                                                                                     258 non-null    datetime64[ns]\n",
      " 1   On a scale from 1 to 5, how would you rate your knowledge and understanding of Artificial Intelligence (AI)?  258 non-null    int64         \n",
      " 2   On a scale from 1 to 5, how often do you use Artificial Intelligence (AI) for personal use?                   258 non-null    int64         \n",
      " 3   On a scale from 1 to 5, how often do you use Artificial Intelligence (AI) for school-related tasks?           258 non-null    int64         \n",
      " 4   On a scale from 1 to 5, how interested are you in pursuing a career in Artificial Intelligence?               258 non-null    int64         \n",
      " 5   Do you know what Chat-GPT is?                                                                                 258 non-null    object        \n",
      " 6   What college are you in?                                                                                      258 non-null    object        \n",
      "dtypes: datetime64[ns](1), int64(4), object(2)\n",
      "memory usage: 14.2+ KB\n"
     ]
    }
   ],
   "source": [
    "# Data types\n",
    "dataset.info()"
   ]
  },
  {
   "cell_type": "code",
   "execution_count": 23,
   "metadata": {},
   "outputs": [
    {
     "data": {
      "text/plain": [
       "Timestamp                                                                                                       0\n",
       "On a scale from 1 to 5, how would you rate your knowledge and understanding of Artificial Intelligence (AI)?    0\n",
       "On a scale from 1 to 5, how often do you use Artificial Intelligence (AI) for personal use?                     0\n",
       "On a scale from 1 to 5, how often do you use Artificial Intelligence (AI) for school-related tasks?             0\n",
       "On a scale from 1 to 5, how interested are you in pursuing a career in Artificial Intelligence?                 0\n",
       "Do you know what Chat-GPT is?                                                                                   0\n",
       "What college are you in?                                                                                        0\n",
       "dtype: int64"
      ]
     },
     "execution_count": 23,
     "metadata": {},
     "output_type": "execute_result"
    }
   ],
   "source": [
    "# Identifying null values\n",
    "dataset.isnull().sum()"
   ]
  }
 ],
 "metadata": {
  "kernelspec": {
   "display_name": "venv",
   "language": "python",
   "name": "python3"
  },
  "language_info": {
   "codemirror_mode": {
    "name": "ipython",
    "version": 3
   },
   "file_extension": ".py",
   "mimetype": "text/x-python",
   "name": "python",
   "nbconvert_exporter": "python",
   "pygments_lexer": "ipython3",
   "version": "3.7.0"
  }
 },
 "nbformat": 4,
 "nbformat_minor": 2
}
