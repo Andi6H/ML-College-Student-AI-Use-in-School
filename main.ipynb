{
 "cells": [
  {
   "cell_type": "code",
   "execution_count": null,
   "metadata": {
    "execution": {
     "iopub.execute_input": "2024-03-23T00:15:16.789915Z",
     "iopub.status.busy": "2024-03-23T00:15:16.789915Z",
     "iopub.status.idle": "2024-03-23T00:15:25.600115Z",
     "shell.execute_reply": "2024-03-23T00:15:25.600115Z"
    }
   },
   "outputs": [],
   "source": [
    "#Libraries\n",
    "import pandas as pd\n",
    "from sklearn.preprocessing import StandardScaler\n",
    "import matplotlib.pyplot as plt"
   ]
  },
  {
   "cell_type": "code",
   "execution_count": null,
   "metadata": {
    "execution": {
     "iopub.execute_input": "2024-03-23T00:15:25.600115Z",
     "iopub.status.busy": "2024-03-23T00:15:25.600115Z",
     "iopub.status.idle": "2024-03-23T00:15:26.247835Z",
     "shell.execute_reply": "2024-03-23T00:15:26.247119Z"
    }
   },
   "outputs": [],
   "source": [
    "# Data collection\n",
    "dataset = pd.read_excel(\"dataset/AI On-Campus Research Survey (Responses).xlsx\", engine='openpyxl')"
   ]
  },
  {
   "cell_type": "code",
   "execution_count": null,
   "metadata": {
    "execution": {
     "iopub.execute_input": "2024-03-23T00:15:26.256038Z",
     "iopub.status.busy": "2024-03-23T00:15:26.256038Z",
     "iopub.status.idle": "2024-03-23T00:15:26.279625Z",
     "shell.execute_reply": "2024-03-23T00:15:26.279625Z"
    }
   },
   "outputs": [],
   "source": [
    "# Handling columns we don't need\n",
    "dataset = dataset.drop(['Timestamp'], axis = 1)"
   ]
  },
  {
   "cell_type": "code",
   "execution_count": null,
   "metadata": {
    "execution": {
     "iopub.execute_input": "2024-03-23T00:15:26.279625Z",
     "iopub.status.busy": "2024-03-23T00:15:26.279625Z",
     "iopub.status.idle": "2024-03-23T00:15:26.306031Z",
     "shell.execute_reply": "2024-03-23T00:15:26.304070Z"
    }
   },
   "outputs": [],
   "source": [
    "# Rename columns\n",
    "dataset.rename(columns={\n",
    "    'On a scale from 1 to 5, how would you rate your knowledge and understanding of Artificial Intelligence (AI)?': 'Knowledge_AI',\n",
    "    'On a scale from 1 to 5, how often do you use Artificial Intelligence (AI) for personal use?': 'Personal_use_AI',\n",
    "    'On a scale from 1 to 5, how often do you use Artificial Intelligence (AI) for school-related tasks?': 'School_use_AI',\n",
    "    'On a scale from 1 to 5, how interested are you in pursuing a career in Artificial Intelligence?': 'Interest_AI_Career'\n",
    "}, inplace=True)"
   ]
  },
  {
   "cell_type": "code",
   "execution_count": null,
   "metadata": {
    "execution": {
     "iopub.execute_input": "2024-03-23T00:15:26.312543Z",
     "iopub.status.busy": "2024-03-23T00:15:26.312543Z",
     "iopub.status.idle": "2024-03-23T00:15:26.355120Z",
     "shell.execute_reply": "2024-03-23T00:15:26.353270Z"
    }
   },
   "outputs": [],
   "source": [
    "# Top rows of the dataset \n",
    "dataset.head()"
   ]
  },
  {
   "cell_type": "code",
   "execution_count": null,
   "metadata": {
    "execution": {
     "iopub.execute_input": "2024-03-23T00:15:26.410330Z",
     "iopub.status.busy": "2024-03-23T00:15:26.410330Z",
     "iopub.status.idle": "2024-03-23T00:15:26.434328Z",
     "shell.execute_reply": "2024-03-23T00:15:26.434328Z"
    }
   },
   "outputs": [],
   "source": [
    "# Data types\n",
    "dataset.info()"
   ]
  },
  {
   "cell_type": "code",
   "execution_count": null,
   "metadata": {
    "execution": {
     "iopub.execute_input": "2024-03-23T00:15:26.440027Z",
     "iopub.status.busy": "2024-03-23T00:15:26.440027Z",
     "iopub.status.idle": "2024-03-23T00:15:26.451213Z",
     "shell.execute_reply": "2024-03-23T00:15:26.450569Z"
    }
   },
   "outputs": [],
   "source": [
    "# Identifying null values\n",
    "dataset.isnull().sum()"
   ]
  },
  {
   "cell_type": "code",
   "execution_count": null,
   "metadata": {
    "execution": {
     "iopub.execute_input": "2024-03-23T00:15:26.455898Z",
     "iopub.status.busy": "2024-03-23T00:15:26.455898Z",
     "iopub.status.idle": "2024-03-23T00:15:26.482859Z",
     "shell.execute_reply": "2024-03-23T00:15:26.482859Z"
    }
   },
   "outputs": [],
   "source": [
    "# Selecting features for outlier detection\n",
    "outlier_features = dataset[['Knowledge_AI', 'Personal_use_AI', 'School_use_AI', 'Interest_AI_Career']]\n",
    "\n",
    "# Standardize the data using Z-Score\n",
    "scaler = StandardScaler()\n",
    "standardized_features = scaler.fit_transform(outlier_features)\n",
    "\n",
    "# Z-Score Outlier Detection\n",
    "z_scores = pd.DataFrame(standardized_features, columns=outlier_features.columns)\n",
    "outliers_zscore = z_scores[(z_scores.abs() > 3).any(axis=1)]\n",
    "\n",
    "# Display the results\n",
    "print(\"Z-Score Outliers:\")\n",
    "print(outliers_zscore)"
   ]
  },
  {
   "cell_type": "code",
   "execution_count": null,
   "metadata": {
    "execution": {
     "iopub.execute_input": "2024-03-23T00:15:26.489451Z",
     "iopub.status.busy": "2024-03-23T00:15:26.482859Z",
     "iopub.status.idle": "2024-03-23T00:15:27.427074Z",
     "shell.execute_reply": "2024-03-23T00:15:27.427074Z"
    }
   },
   "outputs": [],
   "source": [
    "# Vizualizimi sipas tipeve të dhënave\n",
    "plt.figure(figsize=(12, 8))\n",
    "\n",
    "# Numerical columns\n",
    "numerical_columns = ['Knowledge_AI', 'Personal_use_AI', 'School_use_AI', 'Interest_AI_Career']\n",
    "\n",
    "for i, column in enumerate(numerical_columns, 1):\n",
    "    plt.subplot(2, 2, i)\n",
    "    plt.hist(dataset[column], bins=30, color='skyblue', edgecolor='black')\n",
    "    plt.title(f'Histogram of {column}')\n",
    "    plt.xlabel(column)\n",
    "    plt.ylabel('Frequency')\n",
    "\n",
    "plt.tight_layout()\n",
    "plt.show()"
   ]
  }
 ],
 "metadata": {
  "kernelspec": {
   "display_name": "venv",
   "language": "python",
   "name": "python3"
  },
  "language_info": {
   "codemirror_mode": {
    "name": "ipython",
    "version": 3
   },
   "file_extension": ".py",
   "mimetype": "text/x-python",
   "name": "python",
   "nbconvert_exporter": "python",
   "pygments_lexer": "ipython3",
   "version": "3.7.0"
  }
 },
 "nbformat": 4,
 "nbformat_minor": 2
}
